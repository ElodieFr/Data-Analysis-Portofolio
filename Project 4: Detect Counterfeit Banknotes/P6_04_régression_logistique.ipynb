{
 "cells": [
  {
   "cell_type": "code",
   "execution_count": 1,
   "id": "fa6d3df7",
   "metadata": {},
   "outputs": [],
   "source": [
    "import pandas as pd\n",
    "import numpy as np\n",
    "import seaborn as sns\n",
    "import matplotlib.pyplot as plt\n",
    "import scipy.stats as st\n",
    "import statsmodels as sm\n",
    "import statsmodels.formula.api as smf\n",
    "from sklearn.linear_model import LogisticRegression\n",
    "from sklearn.neighbors import KNeighborsClassifier\n",
    "from sklearn.model_selection import train_test_split\n",
    "from sklearn.metrics import classification_report, confusion_matrix\n",
    "from statsmodels.stats.outliers_influence import variance_inflation_factor\n",
    "from sklearn import metrics\n",
    "from sklearn import preprocessing\n",
    "from sklearn import decomposition\n",
    "from sklearn.preprocessing import scale\n",
    "from sklearn.preprocessing import StandardScaler\n",
    "from sklearn.decomposition import PCA"
   ]
  },
  {
   "cell_type": "markdown",
   "id": "82b2583a",
   "metadata": {},
   "source": [
    "### Mission 3\n",
    "Modélisez les données à l'aide d'une régression logistique. Grâce à celle-ci, vous créerez un programme capable d'effectuer une prédiction sur un billet, c'est-à-dire de déterminer s'il s'agit d'un vrai ou d'un faux billet. Pour chaque billet, votre algorithme de classification devra donner la probabilité que le billet soit vrai. Si cette probabilité est supérieure ou égale à 0.5, le billet sera considéré comme vrai. Dans le cas contraire, il sera considéré comme faux."
   ]
  },
  {
   "cell_type": "code",
   "execution_count": 2,
   "id": "0a2b0787",
   "metadata": {},
   "outputs": [],
   "source": [
    "#Importation du fichier source\n",
    "data = pd.read_csv(r\"C:\\Users\\elodi\\Documents\\DATA\\Data Analyst\\Projets\\P6\\notes.csv\", sep=',')"
   ]
  },
  {
   "cell_type": "markdown",
   "id": "d11f2a48",
   "metadata": {},
   "source": [
    "### 1. Régression logistique"
   ]
  },
  {
   "cell_type": "code",
   "execution_count": 3,
   "id": "637a1a2c",
   "metadata": {},
   "outputs": [
    {
     "name": "stdout",
     "output_type": "stream",
     "text": [
      "<class 'pandas.core.frame.DataFrame'>\n",
      "RangeIndex: 170 entries, 0 to 169\n",
      "Data columns (total 7 columns):\n",
      " #   Column        Non-Null Count  Dtype  \n",
      "---  ------        --------------  -----  \n",
      " 0   is_genuine    170 non-null    bool   \n",
      " 1   diagonal      170 non-null    float64\n",
      " 2   height_left   170 non-null    float64\n",
      " 3   height_right  170 non-null    float64\n",
      " 4   margin_low    170 non-null    float64\n",
      " 5   margin_up     170 non-null    float64\n",
      " 6   length        170 non-null    float64\n",
      "dtypes: bool(1), float64(6)\n",
      "memory usage: 8.3 KB\n"
     ]
    }
   ],
   "source": [
    "data.info()"
   ]
  },
  {
   "cell_type": "code",
   "execution_count": 4,
   "id": "63e50d2a",
   "metadata": {},
   "outputs": [
    {
     "data": {
      "text/html": [
       "<div>\n",
       "<style scoped>\n",
       "    .dataframe tbody tr th:only-of-type {\n",
       "        vertical-align: middle;\n",
       "    }\n",
       "\n",
       "    .dataframe tbody tr th {\n",
       "        vertical-align: top;\n",
       "    }\n",
       "\n",
       "    .dataframe thead th {\n",
       "        text-align: right;\n",
       "    }\n",
       "</style>\n",
       "<table border=\"1\" class=\"dataframe\">\n",
       "  <thead>\n",
       "    <tr style=\"text-align: right;\">\n",
       "      <th></th>\n",
       "      <th>is_genuine</th>\n",
       "      <th>diagonal</th>\n",
       "      <th>height_left</th>\n",
       "      <th>height_right</th>\n",
       "      <th>margin_low</th>\n",
       "      <th>margin_up</th>\n",
       "      <th>length</th>\n",
       "    </tr>\n",
       "  </thead>\n",
       "  <tbody>\n",
       "    <tr>\n",
       "      <th>0</th>\n",
       "      <td>1</td>\n",
       "      <td>171.81</td>\n",
       "      <td>104.86</td>\n",
       "      <td>104.95</td>\n",
       "      <td>4.52</td>\n",
       "      <td>2.89</td>\n",
       "      <td>112.83</td>\n",
       "    </tr>\n",
       "    <tr>\n",
       "      <th>1</th>\n",
       "      <td>1</td>\n",
       "      <td>171.67</td>\n",
       "      <td>103.74</td>\n",
       "      <td>103.70</td>\n",
       "      <td>4.01</td>\n",
       "      <td>2.87</td>\n",
       "      <td>113.29</td>\n",
       "    </tr>\n",
       "    <tr>\n",
       "      <th>2</th>\n",
       "      <td>1</td>\n",
       "      <td>171.83</td>\n",
       "      <td>103.76</td>\n",
       "      <td>103.76</td>\n",
       "      <td>4.40</td>\n",
       "      <td>2.88</td>\n",
       "      <td>113.84</td>\n",
       "    </tr>\n",
       "    <tr>\n",
       "      <th>3</th>\n",
       "      <td>1</td>\n",
       "      <td>171.80</td>\n",
       "      <td>103.78</td>\n",
       "      <td>103.65</td>\n",
       "      <td>3.73</td>\n",
       "      <td>3.12</td>\n",
       "      <td>113.63</td>\n",
       "    </tr>\n",
       "    <tr>\n",
       "      <th>4</th>\n",
       "      <td>1</td>\n",
       "      <td>172.05</td>\n",
       "      <td>103.70</td>\n",
       "      <td>103.75</td>\n",
       "      <td>5.04</td>\n",
       "      <td>2.27</td>\n",
       "      <td>113.55</td>\n",
       "    </tr>\n",
       "    <tr>\n",
       "      <th>...</th>\n",
       "      <td>...</td>\n",
       "      <td>...</td>\n",
       "      <td>...</td>\n",
       "      <td>...</td>\n",
       "      <td>...</td>\n",
       "      <td>...</td>\n",
       "      <td>...</td>\n",
       "    </tr>\n",
       "    <tr>\n",
       "      <th>165</th>\n",
       "      <td>0</td>\n",
       "      <td>172.11</td>\n",
       "      <td>104.23</td>\n",
       "      <td>104.45</td>\n",
       "      <td>5.24</td>\n",
       "      <td>3.58</td>\n",
       "      <td>111.78</td>\n",
       "    </tr>\n",
       "    <tr>\n",
       "      <th>166</th>\n",
       "      <td>0</td>\n",
       "      <td>173.01</td>\n",
       "      <td>104.59</td>\n",
       "      <td>104.31</td>\n",
       "      <td>5.04</td>\n",
       "      <td>3.05</td>\n",
       "      <td>110.91</td>\n",
       "    </tr>\n",
       "    <tr>\n",
       "      <th>167</th>\n",
       "      <td>0</td>\n",
       "      <td>172.47</td>\n",
       "      <td>104.27</td>\n",
       "      <td>104.10</td>\n",
       "      <td>4.88</td>\n",
       "      <td>3.33</td>\n",
       "      <td>110.68</td>\n",
       "    </tr>\n",
       "    <tr>\n",
       "      <th>168</th>\n",
       "      <td>0</td>\n",
       "      <td>171.82</td>\n",
       "      <td>103.97</td>\n",
       "      <td>103.88</td>\n",
       "      <td>4.73</td>\n",
       "      <td>3.55</td>\n",
       "      <td>111.87</td>\n",
       "    </tr>\n",
       "    <tr>\n",
       "      <th>169</th>\n",
       "      <td>0</td>\n",
       "      <td>171.96</td>\n",
       "      <td>104.00</td>\n",
       "      <td>103.95</td>\n",
       "      <td>5.63</td>\n",
       "      <td>3.26</td>\n",
       "      <td>110.96</td>\n",
       "    </tr>\n",
       "  </tbody>\n",
       "</table>\n",
       "<p>170 rows × 7 columns</p>\n",
       "</div>"
      ],
      "text/plain": [
       "     is_genuine  diagonal  height_left  height_right  margin_low  margin_up  \\\n",
       "0             1    171.81       104.86        104.95        4.52       2.89   \n",
       "1             1    171.67       103.74        103.70        4.01       2.87   \n",
       "2             1    171.83       103.76        103.76        4.40       2.88   \n",
       "3             1    171.80       103.78        103.65        3.73       3.12   \n",
       "4             1    172.05       103.70        103.75        5.04       2.27   \n",
       "..          ...       ...          ...           ...         ...        ...   \n",
       "165           0    172.11       104.23        104.45        5.24       3.58   \n",
       "166           0    173.01       104.59        104.31        5.04       3.05   \n",
       "167           0    172.47       104.27        104.10        4.88       3.33   \n",
       "168           0    171.82       103.97        103.88        4.73       3.55   \n",
       "169           0    171.96       104.00        103.95        5.63       3.26   \n",
       "\n",
       "     length  \n",
       "0    112.83  \n",
       "1    113.29  \n",
       "2    113.84  \n",
       "3    113.63  \n",
       "4    113.55  \n",
       "..      ...  \n",
       "165  111.78  \n",
       "166  110.91  \n",
       "167  110.68  \n",
       "168  111.87  \n",
       "169  110.96  \n",
       "\n",
       "[170 rows x 7 columns]"
      ]
     },
     "metadata": {},
     "output_type": "display_data"
    }
   ],
   "source": [
    "#Remplacement des valeurs true/false par 1 et 0\n",
    "data['is_genuine'].replace([True, False], [1, 0], inplace = True)\n",
    "display(data)"
   ]
  },
  {
   "cell_type": "code",
   "execution_count": 5,
   "id": "c8e91fa4",
   "metadata": {},
   "outputs": [],
   "source": [
    "#Préparation des données\n",
    "X = data.copy()\n",
    "X = X.iloc[:, 1:]\n",
    "y = data.iloc[:, 0]"
   ]
  },
  {
   "cell_type": "code",
   "execution_count": 6,
   "id": "4650ae31",
   "metadata": {},
   "outputs": [],
   "source": [
    "#Séparation données test et d'entraînement\n",
    "X_train, X_test, y_train, y_test = train_test_split(X, y, test_size=0.20)"
   ]
  },
  {
   "cell_type": "code",
   "execution_count": 7,
   "id": "4df509f2",
   "metadata": {},
   "outputs": [
    {
     "data": {
      "text/plain": [
       "LogisticRegression()"
      ]
     },
     "execution_count": 7,
     "metadata": {},
     "output_type": "execute_result"
    }
   ],
   "source": [
    "#Instantiation du modèle\n",
    "lr = LogisticRegression()\n",
    "lr.fit(X_train, y_train)"
   ]
  },
  {
   "cell_type": "markdown",
   "id": "60a853ce",
   "metadata": {},
   "source": [
    "##### Vérification de la colinéarité des variables\n",
    "A partir du VIF (Variance Inflation Factor), le facteur d'influence de la variable, nous pouvons avoir une idée des éventuels problèmes de colinéarité."
   ]
  },
  {
   "cell_type": "code",
   "execution_count": 8,
   "id": "2f3754da",
   "metadata": {},
   "outputs": [
    {
     "data": {
      "text/plain": [
       "[2.249831212995871,\n",
       " 2.5637087947433295,\n",
       " 2.172802257913991,\n",
       " 1.6252305296552272,\n",
       " 2.463836435483419]"
      ]
     },
     "execution_count": 8,
     "metadata": {},
     "output_type": "execute_result"
    }
   ],
   "source": [
    "reg_multi = smf.ols('diagonal ~ height_left + height_right + margin_low + margin_up + length', data=data).fit()\n",
    "variables = reg_multi.model.exog\n",
    "[variance_inflation_factor(variables, i) for i in np.arange(1,variables.shape[1])]"
   ]
  },
  {
   "cell_type": "markdown",
   "id": "8e600ea8",
   "metadata": {},
   "source": [
    "# \n",
    "Si des variables colinéaires sont de facto fortement corrélées entre elles, deux variables corrélées ne sont pas forcément colinéaires. La régression logistique peut être modélisée sur nos six variables explicatives, il ne semble pas avoir de frein possible, ni colinéarité, il n'y a non plus pas de valeur atypique influente"
   ]
  },
  {
   "cell_type": "markdown",
   "id": "25742f34",
   "metadata": {},
   "source": [
    "##### Matrice de confusion (évalutation du modèle)"
   ]
  },
  {
   "cell_type": "code",
   "execution_count": 9,
   "id": "02c10b90",
   "metadata": {},
   "outputs": [
    {
     "name": "stdout",
     "output_type": "stream",
     "text": [
      "[[13  0]\n",
      " [ 0 21]]\n"
     ]
    }
   ],
   "source": [
    "y_pred = lr.predict(X_test)\n",
    "cf_matrix = confusion_matrix(y_test, y_pred)\n",
    "print(cf_matrix)"
   ]
  },
  {
   "cell_type": "code",
   "execution_count": 10,
   "id": "3d343dff",
   "metadata": {},
   "outputs": [
    {
     "ename": "SyntaxError",
     "evalue": "EOL while scanning string literal (<ipython-input-10-3c6394090c84>, line 11)",
     "output_type": "error",
     "traceback": [
      "\u001b[1;36m  File \u001b[1;32m\"<ipython-input-10-3c6394090c84>\"\u001b[1;36m, line \u001b[1;32m11\u001b[0m\n\u001b[1;33m    \"plt.savefig('matrice_lr.png')\u001b[0m\n\u001b[1;37m                                  ^\u001b[0m\n\u001b[1;31mSyntaxError\u001b[0m\u001b[1;31m:\u001b[0m EOL while scanning string literal\n"
     ]
    }
   ],
   "source": [
    "ax = sns.heatmap(cf_matrix, annot=True, cmap='Blues')\n",
    "\n",
    "ax.set_title('Matrice de confusion\\n\\n');\n",
    "ax.set_xlabel('\\nValeurs prédites')\n",
    "ax.set_ylabel('Valeurs actuelles');\n",
    "\n",
    "\n",
    "ax.xaxis.set_ticklabels(['False','True'])\n",
    "ax.yaxis.set_ticklabels(['False','True'])\n",
    "\n",
    "\"plt.savefig('matrice_lr.png')\n",
    "plt.show()"
   ]
  },
  {
   "cell_type": "markdown",
   "id": "80ac9272",
   "metadata": {},
   "source": [
    "##### L'évaluation du modèle peut aussi se faire par la courbe ROC et sa métrique AUC.\n",
    "La courbe ROC (Receiver Operating Characteristic) représente la sensibilité en fonction de la spécificité pour différents seuils de décision. L'aire sous la courbe ROC, l'AUC (Area Under the ROC ), est une mesure de la qualité de la classification qui varie entre 0.5 dans le pire des cas et 1 dans le meilleur des cas."
   ]
  },
  {
   "cell_type": "code",
   "execution_count": null,
   "id": "d5931b45",
   "metadata": {},
   "outputs": [],
   "source": [
    "y_prob = lr.predict_proba(X_test)[:,1] \n",
    "false_positive_rate, true_positive_rate, thresholds = metrics.roc_curve(y_test, y_prob)"
   ]
  },
  {
   "cell_type": "code",
   "execution_count": null,
   "id": "940f7391",
   "metadata": {},
   "outputs": [],
   "source": [
    "metrics.auc(false_positive_rate, true_positive_rate)"
   ]
  },
  {
   "cell_type": "markdown",
   "id": "731aa7ae",
   "metadata": {},
   "source": [
    "##### Courbe ROC"
   ]
  },
  {
   "cell_type": "code",
   "execution_count": null,
   "id": "d2cce2be",
   "metadata": {},
   "outputs": [],
   "source": [
    "plt.figure(figsize=(10, 8))\n",
    "\n",
    "plt.plot(false_positive_rate, true_positive_rate)\n",
    "plt.plot([0, 1], [0, 1], linestyle='--')\n",
    "\n",
    "plt.xlabel('TFP')\n",
    "plt.ylabel('TVP')\n",
    "plt.title('Courbe ROC')\n",
    "\n",
    "#plt.savefig('roc.png')\n",
    "plt.show()"
   ]
  },
  {
   "cell_type": "markdown",
   "id": "5001ef71",
   "metadata": {},
   "source": [
    "##### Autres métriques d'évaluation du modèle "
   ]
  },
  {
   "cell_type": "code",
   "execution_count": null,
   "id": "1962361a",
   "metadata": {},
   "outputs": [],
   "source": [
    "print('  - Accuracy:' +str(round(metrics.accuracy_score(y_test, y_pred)*100, 2)), '%')\n",
    "print('  - Precision:' +str(round(metrics.precision_score(y_test, y_pred)*100, 2)), '%')\n",
    "print('  - Recall:' +str(round(metrics.recall_score(y_test, y_pred)*100, 2)), '%')\n",
    "print('  - F1 score:' +str(round(metrics.f1_score(y_test, y_pred)*100, 2)), '%')"
   ]
  },
  {
   "cell_type": "markdown",
   "id": "3f41ff31",
   "metadata": {},
   "source": [
    "# \n",
    "Les métriques d'évaluation que nous obtenons sont très satisfaisantes. Après l'évaluation des performances du modèle de prédiction 'lr', ce modèle est retenu pour sa fiablité et sa performance."
   ]
  },
  {
   "cell_type": "markdown",
   "id": "7a0d56f3",
   "metadata": {},
   "source": [
    "### 2. Application sur le fichier test"
   ]
  },
  {
   "cell_type": "code",
   "execution_count": null,
   "id": "8966baba",
   "metadata": {},
   "outputs": [],
   "source": [
    "df_test = pd.read_csv(r\"C:\\Users\\elodi\\Downloads\\example (1).csv\")\n",
    "df_test"
   ]
  },
  {
   "cell_type": "code",
   "execution_count": null,
   "id": "86eeac58",
   "metadata": {},
   "outputs": [],
   "source": [
    "#Préparation des données\n",
    "X = df_test.copy()\n",
    "X = X.iloc[:, :-1]"
   ]
  },
  {
   "cell_type": "code",
   "execution_count": null,
   "id": "d21e3e9b",
   "metadata": {},
   "outputs": [],
   "source": [
    "#Utilisation du modèle de prédiction 'lr'\n",
    "probability = lr.predict_proba(X)[:,1]\n",
    "probability"
   ]
  },
  {
   "cell_type": "code",
   "execution_count": null,
   "id": "4583fda0",
   "metadata": {},
   "outputs": [],
   "source": [
    "proba = pd.Series(probability.round(3), name='value')"
   ]
  },
  {
   "cell_type": "code",
   "execution_count": null,
   "id": "92706cb5",
   "metadata": {},
   "outputs": [],
   "source": [
    "#Intégration des probabilités dans le jeu de données\n",
    "df_pred = pd.concat([df_test, proba], axis=1)\n",
    "df_pred"
   ]
  },
  {
   "cell_type": "markdown",
   "id": "33238929",
   "metadata": {},
   "source": [
    "##### Résultat de la classification prédictive :"
   ]
  },
  {
   "cell_type": "code",
   "execution_count": null,
   "id": "455e2399",
   "metadata": {},
   "outputs": [],
   "source": [
    "resultat = []\n",
    "for i in df_pred['value'] >= .5:\n",
    "        if i is True :\n",
    "            resultat.append('Vrai Billet')\n",
    "        else :\n",
    "            resultat.append('Faux Billet')\n",
    "\n",
    "df_pred['resultat'] = resultat\n",
    "df_pred"
   ]
  },
  {
   "cell_type": "markdown",
   "id": "792c3e58",
   "metadata": {},
   "source": [
    "### 3. Algorithme de classification des billets de banque"
   ]
  },
  {
   "cell_type": "code",
   "execution_count": null,
   "id": "1f42f425",
   "metadata": {},
   "outputs": [],
   "source": [
    "def detecteur(fichier_csv):\n",
    "    df = pd.read_csv(fichier_csv)\n",
    "    X = df.copy()\n",
    "    X = X.iloc[:, :-1]\n",
    "    y = data.iloc[:, 0]\n",
    "    \n",
    "    #Centrage/réduction des données\n",
    "    std_scale = preprocessing.StandardScaler().fit(X)\n",
    "    X_scaled = std_scale.transform(X)\n",
    "     \n",
    "    #Utilisation du modèle de prédiction 'lr'\n",
    "    probability = lr.predict_proba(X_scaled)[:, 1]\n",
    "    \n",
    "    #Probabilités des billets établies \n",
    "    proba = pd.Series(probability.round(3), name='%value')\n",
    "    \n",
    "    #Intégration des probabilités dans le jeu de données\n",
    "    df_final = pd.concat([df, proba], axis=1)\n",
    "    \n",
    "   #Résultat \n",
    "    resultat = []\n",
    "    for i in df_final['%value'] >= .5:\n",
    "        if i is True :\n",
    "            resultat.append('Vrai Billet')\n",
    "        else :\n",
    "            resultat.append('Faux Billet')\n",
    "\n",
    "    df_final['resultat'] = resultat\n",
    "\n",
    "    return df_final   "
   ]
  },
  {
   "cell_type": "code",
   "execution_count": null,
   "id": "5ece6bb6",
   "metadata": {},
   "outputs": [],
   "source": [
    "detecteur(r\"C:\\Users\\elodi\\Downloads\\example (1).csv\")"
   ]
  },
  {
   "cell_type": "code",
   "execution_count": null,
   "id": "71572f86",
   "metadata": {},
   "outputs": [],
   "source": []
  }
 ],
 "metadata": {
  "kernelspec": {
   "display_name": "Python 3",
   "language": "python",
   "name": "python3"
  },
  "language_info": {
   "codemirror_mode": {
    "name": "ipython",
    "version": 3
   },
   "file_extension": ".py",
   "mimetype": "text/x-python",
   "name": "python",
   "nbconvert_exporter": "python",
   "pygments_lexer": "ipython3",
   "version": "3.8.8"
  }
 },
 "nbformat": 4,
 "nbformat_minor": 5
}
