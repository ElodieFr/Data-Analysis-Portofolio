{
 "cells": [
  {
   "cell_type": "code",
   "execution_count": 1,
   "id": "81b815fd",
   "metadata": {},
   "outputs": [],
   "source": [
    "import pandas as pd\n",
    "import numpy as np \n",
    "import seaborn as sns"
   ]
  },
  {
   "cell_type": "code",
   "execution_count": 2,
   "id": "e759d10e",
   "metadata": {},
   "outputs": [],
   "source": [
    "animaux = pd.read_csv(r'C:\\Users\\elodi\\Downloads\\FAO_2013_fr\\fr_animaux.csv')\n",
    "vegetaux = pd.read_csv(r\"C:\\Users\\elodi\\Downloads\\FAO_2013_fr\\fr_vegetaux.csv\")\n",
    "population = pd.read_csv(r\"C:\\Users\\elodi\\Downloads\\FAO_2013_fr\\fr_population.csv\")\n",
    "cereales = pd.read_csv(r\"C:\\Users\\elodi\\Downloads\\FAO_2013_fr\\fr_ce╠üre╠üales.csv\")\n",
    "sous_alimentation = pd.read_csv(r\"C:\\Users\\elodi\\Downloads\\FAO_2013_fr\\fr_sousalimentation.csv\")"
   ]
  },
  {
   "cell_type": "markdown",
   "id": "4e2f8067",
   "metadata": {},
   "source": [
    "##### Question 15"
   ]
  },
  {
   "cell_type": "code",
   "execution_count": 3,
   "id": "ea832bfb",
   "metadata": {},
   "outputs": [
    {
     "data": {
      "text/plain": [
       "6997326000"
      ]
     },
     "execution_count": 3,
     "metadata": {},
     "output_type": "execute_result"
    }
   ],
   "source": [
    "population_mondiale = population[['Code zone', 'Zone', 'Année', 'Valeur']]\n",
    "population_mondiale = population_mondiale.rename(columns={'Code zone': 'code_pays', 'Zone': 'pays', 'Année': 'annee', 'Valeur': 'population'})\n",
    "population_mondiale['population'] *= 1000\n",
    "population_mondiale['population'].sum()\n",
    "population_totale = population_mondiale[population_mondiale['code_pays'] != 351]\n",
    "population_totale['population'].sum()"
   ]
  },
  {
   "cell_type": "code",
   "execution_count": 4,
   "id": "492c4722",
   "metadata": {},
   "outputs": [],
   "source": [
    "population_totale.to_csv(\"export.csv\", index = False)"
   ]
  },
  {
   "cell_type": "markdown",
   "id": "eaa01539",
   "metadata": {},
   "source": [
    "##### Question 16 "
   ]
  },
  {
   "cell_type": "code",
   "execution_count": 5,
   "id": "e904ec84",
   "metadata": {},
   "outputs": [],
   "source": [
    "vegetaux = vegetaux[vegetaux['Code zone'] != 351]\n",
    "animaux = animaux[animaux['Code zone'] != 351]\n",
    "vegetaux['type'] = 'vegetale'\n",
    "animaux['type'] = 'animal'\n",
    "df_animaux_vegetaux = pd.concat([vegetaux, animaux])"
   ]
  },
  {
   "cell_type": "code",
   "execution_count": 6,
   "id": "f1980053",
   "metadata": {},
   "outputs": [],
   "source": [
    "df_animaux_vegetaux = df_animaux_vegetaux.pivot_table(index=['Zone','Code zone','Produit', 'Code Produit', 'type',], values='Valeur', columns='Élément')\n",
    "df_animaux_vegetaux = df_animaux_vegetaux.rename_axis(None, axis=1)\n",
    "df_animaux_vegetaux.reset_index(inplace=True)"
   ]
  },
  {
   "cell_type": "code",
   "execution_count": 7,
   "id": "776dc1c0",
   "metadata": {},
   "outputs": [],
   "source": [
    "df_animaux_vegetaux = df_animaux_vegetaux.rename(columns={'Zone': 'pays', 'Code zone': 'code_pays', 'Produit': 'produit', 'Code Produit': 'code_produit', 'type': 'origin' })\n",
    "df_animaux_vegetaux = df_animaux_vegetaux.rename(columns={'Disponibilité intérieure': 'dispo_alim_tonnes', 'Disponibilité alimentaire (Kcal/personne/jour)': 'dispo_alim_kcal_p_j', 'Disponibilité de protéines en quantité (g/personne/jour)' :'dispo_prot','Disponibilité de protéines en quantité (g/personne/jour)': 'dispo_prot', 'Disponibilité de matière grasse en quantité ((g/personne/jour)': 'dispo_mat_gr'})\n",
    "df_animaux_vegetaux = df_animaux_vegetaux[['pays', 'code_pays', 'produit', 'code_produit', 'origin', 'dispo_alim_tonnes', 'dispo_alim_kcal_p_j', 'dispo_prot', 'Disponibilité de matière grasse en quantité (g/personne/jour)']]\n",
    "df_animaux_vegetaux = df_animaux_vegetaux.rename(columns={'Disponibilité de matière grasse en quantité (g/personne/jour)': 'dispo_mat_gr'})\n",
    "df_animaux_vegetaux['annee'] = '2013'"
   ]
  },
  {
   "cell_type": "code",
   "execution_count": 8,
   "id": "8a9bec65",
   "metadata": {},
   "outputs": [
    {
     "data": {
      "text/html": [
       "<div>\n",
       "<style scoped>\n",
       "    .dataframe tbody tr th:only-of-type {\n",
       "        vertical-align: middle;\n",
       "    }\n",
       "\n",
       "    .dataframe tbody tr th {\n",
       "        vertical-align: top;\n",
       "    }\n",
       "\n",
       "    .dataframe thead th {\n",
       "        text-align: right;\n",
       "    }\n",
       "</style>\n",
       "<table border=\"1\" class=\"dataframe\">\n",
       "  <thead>\n",
       "    <tr style=\"text-align: right;\">\n",
       "      <th></th>\n",
       "      <th>code_pays</th>\n",
       "      <th>pays</th>\n",
       "      <th>annee</th>\n",
       "      <th>produit</th>\n",
       "      <th>code_produit</th>\n",
       "      <th>origin</th>\n",
       "      <th>dispo_alim_tonnes</th>\n",
       "      <th>dispo_alim_kcal_p_j</th>\n",
       "      <th>dispo_prot</th>\n",
       "      <th>dispo_mat_gr</th>\n",
       "    </tr>\n",
       "  </thead>\n",
       "  <tbody>\n",
       "    <tr>\n",
       "      <th>0</th>\n",
       "      <td>2</td>\n",
       "      <td>Afghanistan</td>\n",
       "      <td>2013</td>\n",
       "      <td>Abats Comestible</td>\n",
       "      <td>2736</td>\n",
       "      <td>animal</td>\n",
       "      <td>53000.0</td>\n",
       "      <td>5.0</td>\n",
       "      <td>0.77</td>\n",
       "      <td>0.20</td>\n",
       "    </tr>\n",
       "    <tr>\n",
       "      <th>1</th>\n",
       "      <td>2</td>\n",
       "      <td>Afghanistan</td>\n",
       "      <td>2013</td>\n",
       "      <td>Agrumes, Autres</td>\n",
       "      <td>2614</td>\n",
       "      <td>vegetale</td>\n",
       "      <td>41000.0</td>\n",
       "      <td>1.0</td>\n",
       "      <td>0.02</td>\n",
       "      <td>0.01</td>\n",
       "    </tr>\n",
       "    <tr>\n",
       "      <th>2</th>\n",
       "      <td>2</td>\n",
       "      <td>Afghanistan</td>\n",
       "      <td>2013</td>\n",
       "      <td>Aliments pour enfants</td>\n",
       "      <td>2680</td>\n",
       "      <td>vegetale</td>\n",
       "      <td>2000.0</td>\n",
       "      <td>1.0</td>\n",
       "      <td>0.03</td>\n",
       "      <td>0.01</td>\n",
       "    </tr>\n",
       "    <tr>\n",
       "      <th>3</th>\n",
       "      <td>2</td>\n",
       "      <td>Afghanistan</td>\n",
       "      <td>2013</td>\n",
       "      <td>Ananas</td>\n",
       "      <td>2618</td>\n",
       "      <td>vegetale</td>\n",
       "      <td>0.0</td>\n",
       "      <td>0.0</td>\n",
       "      <td>0.00</td>\n",
       "      <td>0.00</td>\n",
       "    </tr>\n",
       "    <tr>\n",
       "      <th>4</th>\n",
       "      <td>2</td>\n",
       "      <td>Afghanistan</td>\n",
       "      <td>2013</td>\n",
       "      <td>Bananes</td>\n",
       "      <td>2615</td>\n",
       "      <td>vegetale</td>\n",
       "      <td>82000.0</td>\n",
       "      <td>4.0</td>\n",
       "      <td>0.05</td>\n",
       "      <td>0.02</td>\n",
       "    </tr>\n",
       "  </tbody>\n",
       "</table>\n",
       "</div>"
      ],
      "text/plain": [
       "   code_pays         pays annee                produit  code_produit  \\\n",
       "0          2  Afghanistan  2013       Abats Comestible          2736   \n",
       "1          2  Afghanistan  2013        Agrumes, Autres          2614   \n",
       "2          2  Afghanistan  2013  Aliments pour enfants          2680   \n",
       "3          2  Afghanistan  2013                 Ananas          2618   \n",
       "4          2  Afghanistan  2013                Bananes          2615   \n",
       "\n",
       "     origin  dispo_alim_tonnes  dispo_alim_kcal_p_j  dispo_prot  dispo_mat_gr  \n",
       "0    animal            53000.0                  5.0        0.77          0.20  \n",
       "1  vegetale            41000.0                  1.0        0.02          0.01  \n",
       "2  vegetale             2000.0                  1.0        0.03          0.01  \n",
       "3  vegetale                0.0                  0.0        0.00          0.00  \n",
       "4  vegetale            82000.0                  4.0        0.05          0.02  "
      ]
     },
     "execution_count": 8,
     "metadata": {},
     "output_type": "execute_result"
    }
   ],
   "source": [
    "df_animaux_vegetaux = df_animaux_vegetaux[['code_pays', 'pays','annee', 'produit', 'code_produit', 'origin', 'dispo_alim_tonnes', 'dispo_alim_kcal_p_j', 'dispo_prot', 'dispo_mat_gr']]\n",
    "df_animaux_vegetaux = df_animaux_vegetaux.fillna(0)\n",
    "df_animaux_vegetaux['dispo_alim_tonnes'] *= 1000\n",
    "df_animaux_vegetaux.head()"
   ]
  },
  {
   "cell_type": "code",
   "execution_count": 9,
   "id": "10f67cc6",
   "metadata": {},
   "outputs": [],
   "source": [
    "df_animaux_vegetaux.to_csv(\"export.csv\", index = False)"
   ]
  },
  {
   "cell_type": "markdown",
   "id": "3a30cc53",
   "metadata": {},
   "source": [
    "##### Question 17"
   ]
  },
  {
   "cell_type": "code",
   "execution_count": 10,
   "id": "d7599524",
   "metadata": {},
   "outputs": [],
   "source": [
    "animaux_vegetaux = pd.concat([vegetaux, animaux])\n",
    "animaux_vegetaux = animaux_vegetaux.pivot_table(index=['Zone','Code zone','Produit','Code Produit', 'type'], values='Valeur', columns='Élément')\n",
    "animaux_vegetaux = animaux_vegetaux.rename_axis(None, axis=1)\n",
    "animaux_vegetaux.reset_index(inplace=True)"
   ]
  },
  {
   "cell_type": "code",
   "execution_count": 11,
   "id": "0f6d9b16",
   "metadata": {},
   "outputs": [
    {
     "data": {
      "text/html": [
       "<div>\n",
       "<style scoped>\n",
       "    .dataframe tbody tr th:only-of-type {\n",
       "        vertical-align: middle;\n",
       "    }\n",
       "\n",
       "    .dataframe tbody tr th {\n",
       "        vertical-align: top;\n",
       "    }\n",
       "\n",
       "    .dataframe thead th {\n",
       "        text-align: right;\n",
       "    }\n",
       "</style>\n",
       "<table border=\"1\" class=\"dataframe\">\n",
       "  <thead>\n",
       "    <tr style=\"text-align: right;\">\n",
       "      <th></th>\n",
       "      <th>code_pays</th>\n",
       "      <th>pays</th>\n",
       "      <th>annee</th>\n",
       "      <th>produit</th>\n",
       "      <th>code_produit</th>\n",
       "      <th>dispo_int</th>\n",
       "      <th>alim_ani</th>\n",
       "      <th>semences</th>\n",
       "      <th>pertes</th>\n",
       "      <th>transfo</th>\n",
       "      <th>nourriture</th>\n",
       "      <th>autres_utilisations</th>\n",
       "    </tr>\n",
       "  </thead>\n",
       "  <tbody>\n",
       "    <tr>\n",
       "      <th>0</th>\n",
       "      <td>2</td>\n",
       "      <td>Afghanistan</td>\n",
       "      <td>2013</td>\n",
       "      <td>Abats Comestible</td>\n",
       "      <td>2736</td>\n",
       "      <td>53.0</td>\n",
       "      <td>0.0</td>\n",
       "      <td>0.0</td>\n",
       "      <td>0.0</td>\n",
       "      <td>0.0</td>\n",
       "      <td>53.0</td>\n",
       "      <td>0.0</td>\n",
       "    </tr>\n",
       "    <tr>\n",
       "      <th>1</th>\n",
       "      <td>2</td>\n",
       "      <td>Afghanistan</td>\n",
       "      <td>2013</td>\n",
       "      <td>Agrumes, Autres</td>\n",
       "      <td>2614</td>\n",
       "      <td>41.0</td>\n",
       "      <td>0.0</td>\n",
       "      <td>0.0</td>\n",
       "      <td>2.0</td>\n",
       "      <td>0.0</td>\n",
       "      <td>39.0</td>\n",
       "      <td>0.0</td>\n",
       "    </tr>\n",
       "    <tr>\n",
       "      <th>2</th>\n",
       "      <td>2</td>\n",
       "      <td>Afghanistan</td>\n",
       "      <td>2013</td>\n",
       "      <td>Aliments pour enfants</td>\n",
       "      <td>2680</td>\n",
       "      <td>2.0</td>\n",
       "      <td>0.0</td>\n",
       "      <td>0.0</td>\n",
       "      <td>0.0</td>\n",
       "      <td>0.0</td>\n",
       "      <td>2.0</td>\n",
       "      <td>0.0</td>\n",
       "    </tr>\n",
       "    <tr>\n",
       "      <th>3</th>\n",
       "      <td>2</td>\n",
       "      <td>Afghanistan</td>\n",
       "      <td>2013</td>\n",
       "      <td>Ananas</td>\n",
       "      <td>2618</td>\n",
       "      <td>0.0</td>\n",
       "      <td>0.0</td>\n",
       "      <td>0.0</td>\n",
       "      <td>0.0</td>\n",
       "      <td>0.0</td>\n",
       "      <td>0.0</td>\n",
       "      <td>0.0</td>\n",
       "    </tr>\n",
       "    <tr>\n",
       "      <th>4</th>\n",
       "      <td>2</td>\n",
       "      <td>Afghanistan</td>\n",
       "      <td>2013</td>\n",
       "      <td>Bananes</td>\n",
       "      <td>2615</td>\n",
       "      <td>82.0</td>\n",
       "      <td>0.0</td>\n",
       "      <td>0.0</td>\n",
       "      <td>0.0</td>\n",
       "      <td>0.0</td>\n",
       "      <td>82.0</td>\n",
       "      <td>0.0</td>\n",
       "    </tr>\n",
       "  </tbody>\n",
       "</table>\n",
       "</div>"
      ],
      "text/plain": [
       "   code_pays         pays annee                produit  code_produit  \\\n",
       "0          2  Afghanistan  2013       Abats Comestible          2736   \n",
       "1          2  Afghanistan  2013        Agrumes, Autres          2614   \n",
       "2          2  Afghanistan  2013  Aliments pour enfants          2680   \n",
       "3          2  Afghanistan  2013                 Ananas          2618   \n",
       "4          2  Afghanistan  2013                Bananes          2615   \n",
       "\n",
       "   dispo_int  alim_ani  semences  pertes  transfo  nourriture  \\\n",
       "0       53.0       0.0       0.0     0.0      0.0        53.0   \n",
       "1       41.0       0.0       0.0     2.0      0.0        39.0   \n",
       "2        2.0       0.0       0.0     0.0      0.0         2.0   \n",
       "3        0.0       0.0       0.0     0.0      0.0         0.0   \n",
       "4       82.0       0.0       0.0     0.0      0.0        82.0   \n",
       "\n",
       "   autres_utilisations  \n",
       "0                  0.0  \n",
       "1                  0.0  \n",
       "2                  0.0  \n",
       "3                  0.0  \n",
       "4                  0.0  "
      ]
     },
     "execution_count": 11,
     "metadata": {},
     "output_type": "execute_result"
    }
   ],
   "source": [
    "animaux_vegetaux = animaux_vegetaux.rename(columns={'Zone': 'pays', 'Code zone': 'code_pays', 'Produit': 'produit', 'Code Produit': 'code_produit'})\n",
    "animaux_vegetaux = animaux_vegetaux.rename(columns={'Disponibilité intérieure': 'dispo_int', 'Aliments pour animaux': 'alim_ani', 'Traitement': 'transfo', 'Autres utilisations (non alimentaire)': 'autres_utilisations'})\n",
    "animaux_vegetaux = animaux_vegetaux.rename(columns={'Semences': 'semences', 'Pertes': 'pertes', 'Nourriture': 'nourriture'})\n",
    "animaux_vegetaux = animaux_vegetaux[['pays', 'code_pays', 'produit', 'code_produit', 'dispo_int', 'alim_ani', 'semences', 'pertes', 'transfo', 'nourriture', 'autres_utilisations']]\n",
    "animaux_vegetaux = animaux_vegetaux.fillna(0)\n",
    "animaux_vegetaux['annee'] = '2013'\n",
    "animaux_vegetaux = animaux_vegetaux[['code_pays', 'pays', 'annee', 'produit', 'code_produit', 'dispo_int', 'alim_ani', 'semences', 'pertes', 'transfo', 'nourriture', 'autres_utilisations']]\n",
    "animaux_vegetaux.head()"
   ]
  },
  {
   "cell_type": "code",
   "execution_count": 12,
   "id": "b66a7c38",
   "metadata": {},
   "outputs": [],
   "source": [
    "animaux_vegetaux.to_csv(\"export.csv\", index = False)"
   ]
  },
  {
   "cell_type": "markdown",
   "id": "fb06cc2d",
   "metadata": {},
   "source": [
    "##### Question 18"
   ]
  },
  {
   "cell_type": "code",
   "execution_count": 13,
   "id": "dcad7438",
   "metadata": {},
   "outputs": [],
   "source": [
    "sous_nutrition = sous_alimentation[['Code zone', 'Zone', 'Année', 'Valeur']]\n",
    "sous_nutrition = sous_nutrition.rename(columns={'Code zone': 'code_pays', 'Zone': 'pays','Année': 'annee', 'Valeur': 'nb_personnes'})\n",
    "sous_nutrition = sous_nutrition[sous_nutrition['code_pays'] != 351]\n",
    "sous_nutrition = sous_nutrition[(sous_nutrition.annee == '2012-2014')]\n",
    "sous_nutrition = sous_nutrition.fillna(0)\n",
    "sous_nutrition.loc[sous_nutrition['annee'] ==  '2012-2014', ['annee']] = '2013'"
   ]
  },
  {
   "cell_type": "code",
   "execution_count": 14,
   "id": "6efb3c3e",
   "metadata": {},
   "outputs": [
    {
     "data": {
      "text/html": [
       "<div>\n",
       "<style scoped>\n",
       "    .dataframe tbody tr th:only-of-type {\n",
       "        vertical-align: middle;\n",
       "    }\n",
       "\n",
       "    .dataframe tbody tr th {\n",
       "        vertical-align: top;\n",
       "    }\n",
       "\n",
       "    .dataframe thead th {\n",
       "        text-align: right;\n",
       "    }\n",
       "</style>\n",
       "<table border=\"1\" class=\"dataframe\">\n",
       "  <thead>\n",
       "    <tr style=\"text-align: right;\">\n",
       "      <th></th>\n",
       "      <th>code_pays</th>\n",
       "      <th>pays</th>\n",
       "      <th>annee</th>\n",
       "      <th>nb_personnes</th>\n",
       "    </tr>\n",
       "  </thead>\n",
       "  <tbody>\n",
       "    <tr>\n",
       "      <th>0</th>\n",
       "      <td>2</td>\n",
       "      <td>Afghanistan</td>\n",
       "      <td>2013</td>\n",
       "      <td>7900000.0</td>\n",
       "    </tr>\n",
       "    <tr>\n",
       "      <th>5</th>\n",
       "      <td>202</td>\n",
       "      <td>Afrique du Sud</td>\n",
       "      <td>2013</td>\n",
       "      <td>2600000.0</td>\n",
       "    </tr>\n",
       "    <tr>\n",
       "      <th>10</th>\n",
       "      <td>3</td>\n",
       "      <td>Albanie</td>\n",
       "      <td>2013</td>\n",
       "      <td>200000.0</td>\n",
       "    </tr>\n",
       "    <tr>\n",
       "      <th>15</th>\n",
       "      <td>4</td>\n",
       "      <td>Algérie</td>\n",
       "      <td>2013</td>\n",
       "      <td>1700000.0</td>\n",
       "    </tr>\n",
       "    <tr>\n",
       "      <th>20</th>\n",
       "      <td>79</td>\n",
       "      <td>Allemagne</td>\n",
       "      <td>2013</td>\n",
       "      <td>0.0</td>\n",
       "    </tr>\n",
       "  </tbody>\n",
       "</table>\n",
       "</div>"
      ],
      "text/plain": [
       "    code_pays            pays annee  nb_personnes\n",
       "0           2     Afghanistan  2013     7900000.0\n",
       "5         202  Afrique du Sud  2013     2600000.0\n",
       "10          3         Albanie  2013      200000.0\n",
       "15          4         Algérie  2013     1700000.0\n",
       "20         79       Allemagne  2013           0.0"
      ]
     },
     "execution_count": 14,
     "metadata": {},
     "output_type": "execute_result"
    }
   ],
   "source": [
    "sous_nutrition.loc[sous_nutrition['nb_personnes'] == '<0.1', ['nb_personnes']] = 0\n",
    "sous_nutrition['nb_personnes'] = sous_nutrition['nb_personnes'].astype(float).copy()\n",
    "sous_nutrition['nb_personnes'] *= 1000000\n",
    "sous_nutrition = sous_nutrition.fillna(0)\n",
    "#sous_nutrition.drop(sous_nutrition[sous_nutrition['nb_personnes'] == 0].index, inplace=True)\n",
    "sous_nutrition.head()"
   ]
  },
  {
   "cell_type": "code",
   "execution_count": 15,
   "id": "8d1a71c3",
   "metadata": {},
   "outputs": [],
   "source": [
    "sous_nutrition.to_csv(\"export.csv\", index = False)"
   ]
  },
  {
   "cell_type": "code",
   "execution_count": null,
   "id": "2ef94509",
   "metadata": {},
   "outputs": [],
   "source": []
  }
 ],
 "metadata": {
  "kernelspec": {
   "display_name": "Python 3",
   "language": "python",
   "name": "python3"
  },
  "language_info": {
   "codemirror_mode": {
    "name": "ipython",
    "version": 3
   },
   "file_extension": ".py",
   "mimetype": "text/x-python",
   "name": "python",
   "nbconvert_exporter": "python",
   "pygments_lexer": "ipython3",
   "version": "3.8.8"
  }
 },
 "nbformat": 4,
 "nbformat_minor": 5
}
