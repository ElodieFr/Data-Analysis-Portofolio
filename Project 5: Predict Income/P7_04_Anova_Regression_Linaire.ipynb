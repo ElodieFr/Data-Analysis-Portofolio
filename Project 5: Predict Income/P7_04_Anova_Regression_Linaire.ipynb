{
 "cells": [
  {
   "cell_type": "code",
   "execution_count": 1,
   "id": "21eb1464",
   "metadata": {},
   "outputs": [],
   "source": [
    "import pandas as pd\n",
    "import numpy as np\n",
    "import matplotlib.pyplot as plt\n",
    "import seaborn as sns\n",
    "import statsmodels.api as sm\n",
    "import statsmodels.formula.api as smf\n",
    "from statsmodels.formula.api import ols\n",
    "import scipy.stats as st\n",
    "from scipy.stats import t, shapiro\n",
    "from statsmodels.stats.outliers_influence import variance_inflation_factor\n",
    "import statsmodels"
   ]
  },
  {
   "cell_type": "code",
   "execution_count": 2,
   "id": "f827867a",
   "metadata": {},
   "outputs": [
    {
     "data": {
      "text/html": [
       "<div>\n",
       "<style scoped>\n",
       "    .dataframe tbody tr th:only-of-type {\n",
       "        vertical-align: middle;\n",
       "    }\n",
       "\n",
       "    .dataframe tbody tr th {\n",
       "        vertical-align: top;\n",
       "    }\n",
       "\n",
       "    .dataframe thead th {\n",
       "        text-align: right;\n",
       "    }\n",
       "</style>\n",
       "<table border=\"1\" class=\"dataframe\">\n",
       "  <thead>\n",
       "    <tr style=\"text-align: right;\">\n",
       "      <th></th>\n",
       "      <th>country_code</th>\n",
       "      <th>country</th>\n",
       "      <th>quantile</th>\n",
       "      <th>nb_quantiles</th>\n",
       "      <th>income</th>\n",
       "      <th>gdpppp</th>\n",
       "      <th>gini</th>\n",
       "      <th>avg_income</th>\n",
       "      <th>pj</th>\n",
       "      <th>c_k_parent</th>\n",
       "    </tr>\n",
       "  </thead>\n",
       "  <tbody>\n",
       "    <tr>\n",
       "      <th>0</th>\n",
       "      <td>ALB</td>\n",
       "      <td>Albania</td>\n",
       "      <td>1</td>\n",
       "      <td>100</td>\n",
       "      <td>728.89795</td>\n",
       "      <td>7297.0</td>\n",
       "      <td>0.3</td>\n",
       "      <td>2994.829902</td>\n",
       "      <td>0.815874</td>\n",
       "      <td>1</td>\n",
       "    </tr>\n",
       "    <tr>\n",
       "      <th>1</th>\n",
       "      <td>ALB</td>\n",
       "      <td>Albania</td>\n",
       "      <td>2</td>\n",
       "      <td>100</td>\n",
       "      <td>916.66235</td>\n",
       "      <td>7297.0</td>\n",
       "      <td>0.3</td>\n",
       "      <td>2994.829902</td>\n",
       "      <td>0.815874</td>\n",
       "      <td>1</td>\n",
       "    </tr>\n",
       "    <tr>\n",
       "      <th>2</th>\n",
       "      <td>ALB</td>\n",
       "      <td>Albania</td>\n",
       "      <td>3</td>\n",
       "      <td>100</td>\n",
       "      <td>1010.91600</td>\n",
       "      <td>7297.0</td>\n",
       "      <td>0.3</td>\n",
       "      <td>2994.829902</td>\n",
       "      <td>0.815874</td>\n",
       "      <td>1</td>\n",
       "    </tr>\n",
       "    <tr>\n",
       "      <th>3</th>\n",
       "      <td>ALB</td>\n",
       "      <td>Albania</td>\n",
       "      <td>4</td>\n",
       "      <td>100</td>\n",
       "      <td>1086.90780</td>\n",
       "      <td>7297.0</td>\n",
       "      <td>0.3</td>\n",
       "      <td>2994.829902</td>\n",
       "      <td>0.815874</td>\n",
       "      <td>1</td>\n",
       "    </tr>\n",
       "    <tr>\n",
       "      <th>4</th>\n",
       "      <td>ALB</td>\n",
       "      <td>Albania</td>\n",
       "      <td>5</td>\n",
       "      <td>100</td>\n",
       "      <td>1132.69970</td>\n",
       "      <td>7297.0</td>\n",
       "      <td>0.3</td>\n",
       "      <td>2994.829902</td>\n",
       "      <td>0.815874</td>\n",
       "      <td>1</td>\n",
       "    </tr>\n",
       "  </tbody>\n",
       "</table>\n",
       "</div>"
      ],
      "text/plain": [
       "  country_code  country  quantile  nb_quantiles      income  gdpppp  gini  \\\n",
       "0          ALB  Albania         1           100   728.89795  7297.0   0.3   \n",
       "1          ALB  Albania         2           100   916.66235  7297.0   0.3   \n",
       "2          ALB  Albania         3           100  1010.91600  7297.0   0.3   \n",
       "3          ALB  Albania         4           100  1086.90780  7297.0   0.3   \n",
       "4          ALB  Albania         5           100  1132.69970  7297.0   0.3   \n",
       "\n",
       "    avg_income        pj  c_k_parent  \n",
       "0  2994.829902  0.815874           1  \n",
       "1  2994.829902  0.815874           1  \n",
       "2  2994.829902  0.815874           1  \n",
       "3  2994.829902  0.815874           1  \n",
       "4  2994.829902  0.815874           1  "
      ]
     },
     "execution_count": 2,
     "metadata": {},
     "output_type": "execute_result"
    }
   ],
   "source": [
    "#Importation fichier source\n",
    "data_7 = pd.read_csv(r\"C:\\Users\\elodi\\Documents\\DATA\\Data Analyst\\Projets\\P7\\wid_500.csv\")\n",
    "data_7.head()"
   ]
  },
  {
   "cell_type": "markdown",
   "id": "0b65ca07",
   "metadata": {},
   "source": [
    "#### Première approche : représentation visuelle selon les 9 pays identifiés lors du clustering"
   ]
  },
  {
   "cell_type": "code",
   "execution_count": 3,
   "id": "6b34eec8",
   "metadata": {},
   "outputs": [],
   "source": [
    "country_list = ['Luxembourg', 'Sweden', 'Spain', 'France', 'Norway', 'United States', 'Denmark', 'Austria', 'Czech Republic\t']\n",
    "data_7_country_list = data_7[data_7['country'].isin(country_list)]"
   ]
  },
  {
   "cell_type": "code",
   "execution_count": 4,
   "id": "7d96c856",
   "metadata": {},
   "outputs": [
    {
     "data": {
      "image/png": "[encoded data removed]",
      "text/plain": [
       "<Figure size 720x576 with 1 Axes>"
      ]
     },
     "metadata": {
      "needs_background": "light"
     },
     "output_type": "display_data"
    }
   ],
   "source": [
    "plt.figure(figsize=(10,8))\n",
    "sns.boxplot(\n",
    "    data=data_7_country_list, \n",
    "    x='income', y='country', \n",
    "    showfliers=False, showmeans=True)\n",
    "\n",
    "plt.savefig('boxplot_panel_income.png')\n",
    "plt.show()"
   ]
  },
  {
   "cell_type": "markdown",
   "id": "4fe81849",
   "metadata": {},
   "source": [
    "On constate ici que les données analysées ne semblent pas être de variances égales.\n",
    "\n",
    "La but est de savoir si ces écarts sont significatifs ou pas. L'ANOVA nous permettra de répondre à cette question."
   ]
  },
  {
   "cell_type": "markdown",
   "id": "bf9176f1",
   "metadata": {},
   "source": [
    "#### ANOVA\n",
    "Appliquez une ANOVA sur vos données, en n’incluant comme variable explicative que le pays de l’individu. Analysez la performance du modèle"
   ]
  },
  {
   "cell_type": "code",
   "execution_count": 5,
   "id": "d67856b1",
   "metadata": {},
   "outputs": [
    {
     "name": "stdout",
     "output_type": "stream",
     "text": [
      "                            OLS Regression Results                            \n",
      "==============================================================================\n",
      "Dep. Variable:                 income   R-squared:                       0.496\n",
      "Model:                            OLS   Adj. R-squared:                  0.496\n",
      "Method:                 Least Squares   F-statistic:                 4.971e+04\n",
      "Date:                Wed, 08 Jun 2022   Prob (F-statistic):               0.00\n",
      "Time:                        17:42:25   Log-Likelihood:            -5.9310e+07\n",
      "No. Observations:             5800000   AIC:                         1.186e+08\n",
      "Df Residuals:                 5799884   BIC:                         1.186e+08\n",
      "Df Model:                         115                                         \n",
      "Covariance Type:            nonrobust                                         \n",
      "==============================================================================\n"
     ]
    }
   ],
   "source": [
    "anova_income = smf.ols('income ~ country', data=data_7).fit()\n",
    "print(anova_income.summary().tables[0])"
   ]
  },
  {
   "cell_type": "markdown",
   "id": "d1fa75de",
   "metadata": {},
   "source": [
    "R² = 0.496, on peut en conclure que la variable explicative Pays explique près de 50% de la variance du revenu de l'individu. Le reste, donc la moitié de la variance sur le revenu, est expliquée par les autres facteurs non considérés dans ce modèle."
   ]
  },
  {
   "cell_type": "markdown",
   "id": "44e0dd63",
   "metadata": {},
   "source": [
    "#### Test de fisher\n",
    "Ce qui nous intéresse réellement, c'est le test de Fisher. La p-valeur de ce test ( 0 ) est très petite et largement inférieure à 5 %. On rejette donc l'hypothèse H0 selon laquelle α1=α2=α3=α4=0 .\n",
    "\n",
    "Le pays a donc bien un effet sur les revenus"
   ]
  },
  {
   "cell_type": "code",
   "execution_count": 6,
   "id": "1f328afe",
   "metadata": {},
   "outputs": [
    {
     "data": {
      "text/html": [
       "<div>\n",
       "<style scoped>\n",
       "    .dataframe tbody tr th:only-of-type {\n",
       "        vertical-align: middle;\n",
       "    }\n",
       "\n",
       "    .dataframe tbody tr th {\n",
       "        vertical-align: top;\n",
       "    }\n",
       "\n",
       "    .dataframe thead th {\n",
       "        text-align: right;\n",
       "    }\n",
       "</style>\n",
       "<table border=\"1\" class=\"dataframe\">\n",
       "  <thead>\n",
       "    <tr style=\"text-align: right;\">\n",
       "      <th></th>\n",
       "      <th>sum_sq</th>\n",
       "      <th>df</th>\n",
       "      <th>F</th>\n",
       "      <th>PR(&gt;F)</th>\n",
       "    </tr>\n",
       "  </thead>\n",
       "  <tbody>\n",
       "    <tr>\n",
       "      <th>country</th>\n",
       "      <td>2.551188e+14</td>\n",
       "      <td>115.0</td>\n",
       "      <td>49710.758889</td>\n",
       "      <td>0.0</td>\n",
       "    </tr>\n",
       "    <tr>\n",
       "      <th>Residual</th>\n",
       "      <td>2.588293e+14</td>\n",
       "      <td>5799884.0</td>\n",
       "      <td>NaN</td>\n",
       "      <td>NaN</td>\n",
       "    </tr>\n",
       "  </tbody>\n",
       "</table>\n",
       "</div>"
      ],
      "text/plain": [
       "                sum_sq         df             F  PR(>F)\n",
       "country   2.551188e+14      115.0  49710.758889     0.0\n",
       "Residual  2.588293e+14  5799884.0           NaN     NaN"
      ]
     },
     "execution_count": 6,
     "metadata": {},
     "output_type": "execute_result"
    }
   ],
   "source": [
    "sm.stats.anova_lm(anova_income, typ=2)"
   ]
  },
  {
   "cell_type": "code",
   "execution_count": 7,
   "id": "0690470e",
   "metadata": {},
   "outputs": [
    {
     "data": {
      "text/plain": [
       "0.49639014230948464"
      ]
     },
     "execution_count": 7,
     "metadata": {},
     "output_type": "execute_result"
    }
   ],
   "source": [
    "test=sm.stats.anova_lm(anova_income, typ=2)\n",
    "SCE=test.iloc[0,0]\n",
    "SCR=test.iloc[1,0]\n",
    "variab_pays=SCE/(SCE+SCR)\n",
    "\n",
    "variab_pays"
   ]
  },
  {
   "cell_type": "markdown",
   "id": "c9ef36fb",
   "metadata": {},
   "source": [
    "#### 1ère régression linéaire \n",
    "Régression linéaire sur nos données, en incluant comme variables explicatives uniquement le revenu moyen du pays de l’individu et l’indice de Gini du pays de l’individu. Quel est le pourcentage de variance expliquée par le(s) modèle(s) ?"
   ]
  },
  {
   "cell_type": "code",
   "execution_count": 8,
   "id": "54da2b4d",
   "metadata": {},
   "outputs": [
    {
     "name": "stdout",
     "output_type": "stream",
     "text": [
      "                            OLS Regression Results                            \n",
      "==============================================================================\n",
      "Dep. Variable:                 income   R-squared:                       0.496\n",
      "Model:                            OLS   Adj. R-squared:                  0.496\n",
      "Method:                 Least Squares   F-statistic:                 2.858e+06\n",
      "Date:                Wed, 08 Jun 2022   Prob (F-statistic):               0.00\n",
      "Time:                        17:42:28   Log-Likelihood:            -5.9310e+07\n",
      "No. Observations:             5800000   AIC:                         1.186e+08\n",
      "Df Residuals:                 5799997   BIC:                         1.186e+08\n",
      "Df Model:                           2                                         \n",
      "Covariance Type:            nonrobust                                         \n",
      "==============================================================================\n",
      "                 coef    std err          t      P>|t|      [0.025      0.975]\n",
      "------------------------------------------------------------------------------\n",
      "Intercept   2.903e-10     14.960   1.94e-11      1.000     -29.321      29.321\n",
      "gini       -1.386e-09     36.106  -3.84e-11      1.000     -70.766      70.766\n",
      "avg_income     1.0000      0.000   2263.120      0.000       0.999       1.001\n",
      "==============================================================================\n",
      "Omnibus:                  7299083.278   Durbin-Watson:                   0.685\n",
      "Prob(Omnibus):                  0.000   Jarque-Bera (JB):       2103715771.044\n",
      "Skew:                           6.739   Prob(JB):                         0.00\n",
      "Kurtosis:                      95.322   Cond. No.                     1.26e+05\n",
      "==============================================================================\n",
      "\n",
      "Notes:\n",
      "[1] Standard Errors assume that the covariance matrix of the errors is correctly specified.\n",
      "[2] The condition number is large, 1.26e+05. This might indicate that there are\n",
      "strong multicollinearity or other numerical problems.\n"
     ]
    }
   ],
   "source": [
    "rl_1 = smf.ols('income ~ gini + avg_income', data=data_7).fit()\n",
    "print(rl_1.summary())"
   ]
  },
  {
   "cell_type": "markdown",
   "id": "b315a3fa",
   "metadata": {},
   "source": [
    "Ce modèle n'explique que 50% de la variance, nous ne sommes pas plus performants que l'ANOVA. Il peut s'agir d'un problème de linéarité, car les salaires ont tendance à évoluer de manière exponentielle."
   ]
  },
  {
   "cell_type": "markdown",
   "id": "09c613f5",
   "metadata": {},
   "source": [
    "##### Visualisation"
   ]
  },
  {
   "cell_type": "code",
   "execution_count": 9,
   "id": "d7295b14",
   "metadata": {},
   "outputs": [
    {
     "data": {
      "image/png": "[encoded data removed]",
      "text/plain": [
       "<Figure size 720x576 with 1 Axes>"
      ]
     },
     "metadata": {
      "needs_background": "light"
     },
     "output_type": "display_data"
    }
   ],
   "source": [
    "fig, ax = plt.subplots(figsize=(10, 8))\n",
    "fig = sm.graphics.plot_ccpr(rl_1, \"avg_income\", ax=ax)"
   ]
  },
  {
   "cell_type": "markdown",
   "id": "9b5d01f1",
   "metadata": {},
   "source": [
    "#### 2ème régression linéaire \n",
    "Logarithme du Revenu moyen du pays de l’individu et l’indice de Gini du pays de l’individu\n",
    "\n",
    "Ajout des colonnes de log"
   ]
  },
  {
   "cell_type": "code",
   "execution_count": 10,
   "id": "78ae3895",
   "metadata": {},
   "outputs": [],
   "source": [
    "data_7['ln_avg_income'] = np.log(data_7['avg_income'])"
   ]
  },
  {
   "cell_type": "code",
   "execution_count": 11,
   "id": "967ed3a4",
   "metadata": {},
   "outputs": [],
   "source": [
    "data_7['ln_income'] = np.log(data_7['income'])"
   ]
  },
  {
   "cell_type": "code",
   "execution_count": 12,
   "id": "9561088e",
   "metadata": {},
   "outputs": [
    {
     "name": "stdout",
     "output_type": "stream",
     "text": [
      "                            OLS Regression Results                            \n",
      "==============================================================================\n",
      "Dep. Variable:              ln_income   R-squared:                       0.728\n",
      "Model:                            OLS   Adj. R-squared:                  0.728\n",
      "Method:                 Least Squares   F-statistic:                 7.773e+06\n",
      "Date:                Wed, 08 Jun 2022   Prob (F-statistic):               0.00\n",
      "Time:                        17:42:40   Log-Likelihood:            -6.3237e+06\n",
      "No. Observations:             5800000   AIC:                         1.265e+07\n",
      "Df Residuals:                 5799997   BIC:                         1.265e+07\n",
      "Df Model:                           2                                         \n",
      "Covariance Type:            nonrobust                                         \n",
      "=================================================================================\n",
      "                    coef    std err          t      P>|t|      [0.025      0.975]\n",
      "---------------------------------------------------------------------------------\n",
      "Intercept         0.4713      0.003    162.377      0.000       0.466       0.477\n",
      "gini             -1.7454      0.004   -459.393      0.000      -1.753      -1.738\n",
      "ln_avg_income     0.9901      0.000   3683.087      0.000       0.990       0.991\n",
      "==============================================================================\n",
      "Omnibus:                   377339.076   Durbin-Watson:                   0.388\n",
      "Prob(Omnibus):                  0.000   Jarque-Bera (JB):          1770686.964\n",
      "Skew:                          -0.098   Prob(JB):                         0.00\n",
      "Kurtosis:                       5.700   Cond. No.                         122.\n",
      "==============================================================================\n",
      "\n",
      "Notes:\n",
      "[1] Standard Errors assume that the covariance matrix of the errors is correctly specified.\n"
     ]
    }
   ],
   "source": [
    "#2ème régression linéaire\n",
    "rl_2 = smf.ols('ln_income ~ gini + ln_avg_income', data=data_7).fit()\n",
    "print(rl_2.summary())"
   ]
  },
  {
   "cell_type": "markdown",
   "id": "875514bc",
   "metadata": {},
   "source": [
    "Ce modèle basé sur le logarithme de l'income et average income est donc meilleur que le premier. Le R2 est ici de 0.729"
   ]
  },
  {
   "cell_type": "markdown",
   "id": "c4081a63",
   "metadata": {},
   "source": [
    "##### Visualisation"
   ]
  },
  {
   "cell_type": "code",
   "execution_count": 13,
   "id": "336bcf3f",
   "metadata": {},
   "outputs": [
    {
     "data": {
      "image/png": "[encoded data removed]",
      "text/plain": [
       "<Figure size 720x576 with 1 Axes>"
      ]
     },
     "metadata": {
      "needs_background": "light"
     },
     "output_type": "display_data"
    }
   ],
   "source": [
    "fig, ax = plt.subplots(figsize=(10, 8))\n",
    "fig = sm.graphics.plot_ccpr(rl_2, \"ln_avg_income\", ax=ax)"
   ]
  },
  {
   "cell_type": "code",
   "execution_count": 14,
   "id": "f84f61da",
   "metadata": {},
   "outputs": [
    {
     "data": {
      "text/html": [
       "<div>\n",
       "<style scoped>\n",
       "    .dataframe tbody tr th:only-of-type {\n",
       "        vertical-align: middle;\n",
       "    }\n",
       "\n",
       "    .dataframe tbody tr th {\n",
       "        vertical-align: top;\n",
       "    }\n",
       "\n",
       "    .dataframe thead th {\n",
       "        text-align: right;\n",
       "    }\n",
       "</style>\n",
       "<table border=\"1\" class=\"dataframe\">\n",
       "  <thead>\n",
       "    <tr style=\"text-align: right;\">\n",
       "      <th></th>\n",
       "      <th>sum_sq</th>\n",
       "      <th>df</th>\n",
       "      <th>F</th>\n",
       "      <th>PR(&gt;F)</th>\n",
       "      <th>eta_sq</th>\n",
       "    </tr>\n",
       "  </thead>\n",
       "  <tbody>\n",
       "    <tr>\n",
       "      <th>gini</th>\n",
       "      <td>1.093747e+05</td>\n",
       "      <td>1.0</td>\n",
       "      <td>2.110422e+05</td>\n",
       "      <td>0.0</td>\n",
       "      <td>0.010781</td>\n",
       "    </tr>\n",
       "    <tr>\n",
       "      <th>ln_avg_income</th>\n",
       "      <td>7.030267e+06</td>\n",
       "      <td>1.0</td>\n",
       "      <td>1.356513e+07</td>\n",
       "      <td>0.0</td>\n",
       "      <td>0.692941</td>\n",
       "    </tr>\n",
       "    <tr>\n",
       "      <th>Residual</th>\n",
       "      <td>3.005907e+06</td>\n",
       "      <td>5799997.0</td>\n",
       "      <td>NaN</td>\n",
       "      <td>NaN</td>\n",
       "      <td>NaN</td>\n",
       "    </tr>\n",
       "  </tbody>\n",
       "</table>\n",
       "</div>"
      ],
      "text/plain": [
       "                     sum_sq         df             F  PR(>F)    eta_sq\n",
       "gini           1.093747e+05        1.0  2.110422e+05     0.0  0.010781\n",
       "ln_avg_income  7.030267e+06        1.0  1.356513e+07     0.0  0.692941\n",
       "Residual       3.005907e+06  5799997.0           NaN     NaN       NaN"
      ]
     },
     "execution_count": 14,
     "metadata": {},
     "output_type": "execute_result"
    }
   ],
   "source": [
    "anova_table_gini_ln = sm.stats.anova_lm(rl_2, typ=2)\n",
    "anova_table_gini_ln[\"eta_sq\"] = anova_table_gini_ln[:-1]['sum_sq']/sum(anova_table_gini_ln['sum_sq'])\n",
    "anova_table_gini_ln"
   ]
  },
  {
   "cell_type": "code",
   "execution_count": 15,
   "id": "63440208",
   "metadata": {},
   "outputs": [
    {
     "data": {
      "text/plain": [
       "72.83"
      ]
     },
     "execution_count": 15,
     "metadata": {},
     "output_type": "execute_result"
    }
   ],
   "source": [
    "#Autre méthode de calcul de la variance expliquée du modèle\n",
    "var_exp_model = round((rl_2.ess / rl_2.centered_tss)*100,2)\n",
    "var_exp_model"
   ]
  },
  {
   "cell_type": "markdown",
   "id": "d73bdeea",
   "metadata": {},
   "source": [
    "Décomposition de la variance :"
   ]
  },
  {
   "cell_type": "code",
   "execution_count": 16,
   "id": "1b5de80a",
   "metadata": {},
   "outputs": [
    {
     "name": "stdout",
     "output_type": "stream",
     "text": [
      "Le pourcentage de la variance expliquée par le pays de naissance est donc de : 70.37 %\n"
     ]
    }
   ],
   "source": [
    "var_exp_pays = round(sum(anova_table_gini_ln[0:2][\"eta_sq\"])*100,2)\n",
    "print(\"Le pourcentage de la variance expliquée par le pays de naissance est donc de :\",var_exp_pays,\"%\")"
   ]
  },
  {
   "cell_type": "code",
   "execution_count": 17,
   "id": "e536fb02",
   "metadata": {},
   "outputs": [
    {
     "name": "stdout",
     "output_type": "stream",
     "text": [
      "Le pourcentage de la variance expliquée par les autres facteurs non considérés est donc de : 2.46 %\n"
     ]
    }
   ],
   "source": [
    "var_exp_autres = round(var_exp_model - var_exp_pays,2)\n",
    "print(\"Le pourcentage de la variance expliquée par les autres facteurs non considérés est donc de :\",var_exp_autres,\"%\")"
   ]
  },
  {
   "cell_type": "code",
   "execution_count": 18,
   "id": "24832fbc",
   "metadata": {},
   "outputs": [
    {
     "data": {
      "text/plain": [
       "11062516.886050463"
      ]
     },
     "execution_count": 18,
     "metadata": {},
     "output_type": "execute_result"
    }
   ],
   "source": [
    "#Variance totale SCT\n",
    "rl_2.centered_tss"
   ]
  },
  {
   "cell_type": "code",
   "execution_count": 19,
   "id": "93708035",
   "metadata": {},
   "outputs": [
    {
     "data": {
      "text/plain": [
       "8056609.94861871"
      ]
     },
     "execution_count": 19,
     "metadata": {},
     "output_type": "execute_result"
    }
   ],
   "source": [
    "#Variance expliquée SCE\n",
    "rl_2.ess"
   ]
  },
  {
   "cell_type": "code",
   "execution_count": 20,
   "id": "f002d24d",
   "metadata": {},
   "outputs": [
    {
     "data": {
      "text/plain": [
       "3005906.9374317527"
      ]
     },
     "execution_count": 20,
     "metadata": {},
     "output_type": "execute_result"
    }
   ],
   "source": [
    "#Variance résiduelle SCR\n",
    "rl_2.ssr"
   ]
  },
  {
   "cell_type": "markdown",
   "id": "99a67b54",
   "metadata": {},
   "source": [
    "#### 3eme régression linéaire\n",
    "Amélioration du dernier modèle avec la classe de revenus des parents"
   ]
  },
  {
   "cell_type": "code",
   "execution_count": 21,
   "id": "abc4fde9",
   "metadata": {},
   "outputs": [
    {
     "name": "stdout",
     "output_type": "stream",
     "text": [
      "                            OLS Regression Results                            \n",
      "==============================================================================\n",
      "Dep. Variable:              ln_income   R-squared:                       0.736\n",
      "Model:                            OLS   Adj. R-squared:                  0.736\n",
      "Method:                 Least Squares   F-statistic:                 5.386e+06\n",
      "Date:                Wed, 08 Jun 2022   Prob (F-statistic):               0.00\n",
      "Time:                        17:42:52   Log-Likelihood:            -6.2418e+06\n",
      "No. Observations:             5800000   AIC:                         1.248e+07\n",
      "Df Residuals:                 5799996   BIC:                         1.248e+07\n",
      "Df Model:                           3                                         \n",
      "Covariance Type:            nonrobust                                         \n",
      "=================================================================================\n",
      "                    coef    std err          t      P>|t|      [0.025      0.975]\n",
      "---------------------------------------------------------------------------------\n",
      "Intercept         0.2600      0.003     89.386      0.000       0.254       0.266\n",
      "ln_avg_income     0.9902      0.000   3735.863      0.000       0.990       0.991\n",
      "gini             -1.7445      0.004   -465.695      0.000      -1.752      -1.737\n",
      "c_k_parent        0.0042   1.02e-05    407.737      0.000       0.004       0.004\n",
      "==============================================================================\n",
      "Omnibus:                   399825.503   Durbin-Watson:                   0.393\n",
      "Prob(Omnibus):                  0.000   Jarque-Bera (JB):          1964433.119\n",
      "Skew:                          -0.114   Prob(JB):                         0.00\n",
      "Kurtosis:                       5.842   Cond. No.                         868.\n",
      "==============================================================================\n",
      "\n",
      "Notes:\n",
      "[1] Standard Errors assume that the covariance matrix of the errors is correctly specified.\n"
     ]
    }
   ],
   "source": [
    "rl_3 = smf.ols('ln_income ~ ln_avg_income + gini + c_k_parent', data=data_7).fit()\n",
    "print(rl_3.summary())"
   ]
  },
  {
   "cell_type": "code",
   "execution_count": 22,
   "id": "4989b4da",
   "metadata": {},
   "outputs": [
    {
     "data": {
      "text/html": [
       "<div>\n",
       "<style scoped>\n",
       "    .dataframe tbody tr th:only-of-type {\n",
       "        vertical-align: middle;\n",
       "    }\n",
       "\n",
       "    .dataframe tbody tr th {\n",
       "        vertical-align: top;\n",
       "    }\n",
       "\n",
       "    .dataframe thead th {\n",
       "        text-align: right;\n",
       "    }\n",
       "</style>\n",
       "<table border=\"1\" class=\"dataframe\">\n",
       "  <thead>\n",
       "    <tr style=\"text-align: right;\">\n",
       "      <th></th>\n",
       "      <th>sum_sq</th>\n",
       "      <th>df</th>\n",
       "      <th>F</th>\n",
       "      <th>PR(&gt;F)</th>\n",
       "      <th>eta_sq</th>\n",
       "    </tr>\n",
       "  </thead>\n",
       "  <tbody>\n",
       "    <tr>\n",
       "      <th>ln_avg_income</th>\n",
       "      <td>7.031635e+06</td>\n",
       "      <td>1.0</td>\n",
       "      <td>1.395667e+07</td>\n",
       "      <td>0.0</td>\n",
       "      <td>0.692990</td>\n",
       "    </tr>\n",
       "    <tr>\n",
       "      <th>gini</th>\n",
       "      <td>1.092639e+05</td>\n",
       "      <td>1.0</td>\n",
       "      <td>2.168715e+05</td>\n",
       "      <td>0.0</td>\n",
       "      <td>0.010768</td>\n",
       "    </tr>\n",
       "    <tr>\n",
       "      <th>c_k_parent</th>\n",
       "      <td>8.375977e+04</td>\n",
       "      <td>1.0</td>\n",
       "      <td>1.662498e+05</td>\n",
       "      <td>0.0</td>\n",
       "      <td>0.008255</td>\n",
       "    </tr>\n",
       "    <tr>\n",
       "      <th>Residual</th>\n",
       "      <td>2.922147e+06</td>\n",
       "      <td>5799996.0</td>\n",
       "      <td>NaN</td>\n",
       "      <td>NaN</td>\n",
       "      <td>NaN</td>\n",
       "    </tr>\n",
       "  </tbody>\n",
       "</table>\n",
       "</div>"
      ],
      "text/plain": [
       "                     sum_sq         df             F  PR(>F)    eta_sq\n",
       "ln_avg_income  7.031635e+06        1.0  1.395667e+07     0.0  0.692990\n",
       "gini           1.092639e+05        1.0  2.168715e+05     0.0  0.010768\n",
       "c_k_parent     8.375977e+04        1.0  1.662498e+05     0.0  0.008255\n",
       "Residual       2.922147e+06  5799996.0           NaN     NaN       NaN"
      ]
     },
     "execution_count": 22,
     "metadata": {},
     "output_type": "execute_result"
    }
   ],
   "source": [
    "anova_table_global_ln = sm.stats.anova_lm(rl_3, typ=2)\n",
    "anova_table_global_ln[\"eta_sq\"] = anova_table_global_ln[:-1]['sum_sq']/sum(anova_table_global_ln['sum_sq'])\n",
    "anova_table_global_ln"
   ]
  },
  {
   "cell_type": "markdown",
   "id": "e0c3f604",
   "metadata": {},
   "source": [
    "Pourcentage de variance expliquée par ce modèle"
   ]
  },
  {
   "cell_type": "code",
   "execution_count": 23,
   "id": "2e28ad36",
   "metadata": {},
   "outputs": [
    {
     "name": "stdout",
     "output_type": "stream",
     "text": [
      "Le pourcentage de la variance expliquée par le pays de naissance et la classe des parents est donc de : 71.2 %\n"
     ]
    }
   ],
   "source": [
    "var_exp_pays_ci_parents = round(sum(anova_table_global_ln[0:-1][\"eta_sq\"])*100,2)\n",
    "print(\"Le pourcentage de la variance expliquée par le pays de naissance et la classe des parents est donc de :\",var_exp_pays_ci_parents,\"%\")"
   ]
  },
  {
   "cell_type": "code",
   "execution_count": 24,
   "id": "65022d3c",
   "metadata": {},
   "outputs": [
    {
     "name": "stdout",
     "output_type": "stream",
     "text": [
      "Le pourcentage de la variance expliquée par les autres facteurs non considérés est donc de : 1.63 %\n"
     ]
    }
   ],
   "source": [
    "var_exp_model_2 = round((rl_2.ess / rl_2.centered_tss)*100,2)\n",
    "var_exp_autres_2 = round(var_exp_model_2 - var_exp_pays_ci_parents,2)\n",
    "print(\"Le pourcentage de la variance expliquée par les autres facteurs non considérés est donc de :\",var_exp_autres_2,\"%\")"
   ]
  },
  {
   "cell_type": "markdown",
   "id": "7ad81b6c",
   "metadata": {},
   "source": [
    "Nous allons donc réaliser quelques tests supplémentaires sur ce dernier modèle."
   ]
  },
  {
   "cell_type": "markdown",
   "id": "02e71870",
   "metadata": {},
   "source": [
    "#### Calculer les leviers\n",
    "L’effet de levier (ou poids) de chaque donnée sur sa propre estimation. Une donnée est considérée comme atypique lorsque cette valeur est inférieure à 0.05.\n",
    "\n",
    "On peut calculer les leviers comme ceci, en sachant que le seuil des leviers est de 2* p/n"
   ]
  },
  {
   "cell_type": "code",
   "execution_count": 25,
   "id": "85740162",
   "metadata": {},
   "outputs": [],
   "source": [
    "alpha = .05\n",
    "n = len(data_7)\n",
    "p = 3"
   ]
  },
  {
   "cell_type": "code",
   "execution_count": 26,
   "id": "744c3c94",
   "metadata": {},
   "outputs": [],
   "source": [
    "levier_analyse = data_7.copy()"
   ]
  },
  {
   "cell_type": "code",
   "execution_count": 27,
   "id": "74197c9a",
   "metadata": {},
   "outputs": [],
   "source": [
    "seuil_levier = 2*p/n"
   ]
  },
  {
   "cell_type": "code",
   "execution_count": 28,
   "id": "9a08987c",
   "metadata": {},
   "outputs": [],
   "source": [
    "levier_analyse['levier_m_3'] = rl_3.get_influence().hat_matrix_diag"
   ]
  },
  {
   "cell_type": "code",
   "execution_count": 29,
   "id": "ab0ca1f7",
   "metadata": {},
   "outputs": [
    {
     "data": {
      "text/html": [
       "<div>\n",
       "<style scoped>\n",
       "    .dataframe tbody tr th:only-of-type {\n",
       "        vertical-align: middle;\n",
       "    }\n",
       "\n",
       "    .dataframe tbody tr th {\n",
       "        vertical-align: top;\n",
       "    }\n",
       "\n",
       "    .dataframe thead th {\n",
       "        text-align: right;\n",
       "    }\n",
       "</style>\n",
       "<table border=\"1\" class=\"dataframe\">\n",
       "  <thead>\n",
       "    <tr style=\"text-align: right;\">\n",
       "      <th></th>\n",
       "      <th>country</th>\n",
       "      <th>levier_m_3</th>\n",
       "    </tr>\n",
       "  </thead>\n",
       "  <tbody>\n",
       "    <tr>\n",
       "      <th>0</th>\n",
       "      <td>Albania</td>\n",
       "      <td>5.180797e-07</td>\n",
       "    </tr>\n",
       "    <tr>\n",
       "      <th>1</th>\n",
       "      <td>Argentina</td>\n",
       "      <td>5.770431e-07</td>\n",
       "    </tr>\n",
       "    <tr>\n",
       "      <th>2</th>\n",
       "      <td>Armenia</td>\n",
       "      <td>6.868661e-07</td>\n",
       "    </tr>\n",
       "    <tr>\n",
       "      <th>3</th>\n",
       "      <td>Austria</td>\n",
       "      <td>7.532104e-07</td>\n",
       "    </tr>\n",
       "    <tr>\n",
       "      <th>4</th>\n",
       "      <td>Azerbaijan</td>\n",
       "      <td>5.094554e-07</td>\n",
       "    </tr>\n",
       "  </tbody>\n",
       "</table>\n",
       "</div>"
      ],
      "text/plain": [
       "      country    levier_m_3\n",
       "0     Albania  5.180797e-07\n",
       "1   Argentina  5.770431e-07\n",
       "2     Armenia  6.868661e-07\n",
       "3     Austria  7.532104e-07\n",
       "4  Azerbaijan  5.094554e-07"
      ]
     },
     "execution_count": 29,
     "metadata": {},
     "output_type": "execute_result"
    }
   ],
   "source": [
    "analyse_levier = levier_analyse.groupby('country')[['country', 'levier_m_3']].mean().reset_index()\n",
    "analyse_levier.head()"
   ]
  },
  {
   "cell_type": "markdown",
   "id": "f2a34bbb",
   "metadata": {},
   "source": [
    "#### Visualisation "
   ]
  },
  {
   "cell_type": "code",
   "execution_count": 30,
   "id": "f4e92232",
   "metadata": {},
   "outputs": [
    {
     "data": {
      "image/png": "[encoded data removed]",
      "text/plain": [
       "<Figure size 1440x720 with 1 Axes>"
      ]
     },
     "metadata": {
      "needs_background": "light"
     },
     "output_type": "display_data"
    }
   ],
   "source": [
    "plt.figure(figsize=(20,10))\n",
    "\n",
    "plt.bar(analyse_levier.loc[analyse_levier['levier_m_3'] <= seuil_levier]['country'].index,\n",
    "        analyse_levier.loc[analyse_levier['levier_m_3'] <= seuil_levier]['levier_m_3'], color='b')\n",
    "plt.bar(analyse_levier.loc[analyse_levier['levier_m_3'] > seuil_levier]['country'].index,\n",
    "        analyse_levier.loc[analyse_levier['levier_m_3'] > seuil_levier]['levier_m_3'], color='r')\n",
    "plt.plot([0, 116], [seuil_levier, seuil_levier], color='y')\n",
    "\n",
    "plt.xlabel('Observation Pays', fontsize=15, fontweight='bold')\n",
    "plt.ylabel('Leviers Modèle 1', fontsize=15, fontweight='bold')\n",
    "plt.title('Analyse graphique des leviers du Modèle 3 > seuil', fontsize=20, fontweight='bold')\n",
    "\n",
    "plt.savefig('levier_m_3.jpg')\n",
    "plt.show()"
   ]
  },
  {
   "cell_type": "code",
   "execution_count": 31,
   "id": "d9c55c9e",
   "metadata": {},
   "outputs": [
    {
     "name": "stdout",
     "output_type": "stream",
     "text": [
      "Pays issus du Modèle 3 avec log.\n"
     ]
    },
    {
     "data": {
      "text/plain": [
       "11                                   Brazil\n",
       "17                          Central African\n",
       "20                                 Colombia\n",
       "39                                Guatemala\n",
       "41                                 Honduras\n",
       "54                                    Kenya\n",
       "93                             South Africa\n",
       "103    The Democratic Republic Of The Congo\n",
       "105                             Timor-Leste\n",
       "Name: country, dtype: object"
      ]
     },
     "metadata": {},
     "output_type": "display_data"
    }
   ],
   "source": [
    "#Liste des pays dont le levier est supérieur au seuil fixé\n",
    "print('Pays issus du Modèle 3 avec log.')\n",
    "display(analyse_levier[analyse_levier['levier_m_3'] > seuil_levier]['country'])"
   ]
  },
  {
   "cell_type": "code",
   "execution_count": 32,
   "id": "21b3a7e1",
   "metadata": {},
   "outputs": [
    {
     "name": "stdout",
     "output_type": "stream",
     "text": [
      "Modèle 3 (avec log): 7.76%\n"
     ]
    }
   ],
   "source": [
    "print(\"Modèle 3 (avec log): \" + str(round(len(analyse_levier[analyse_levier['levier_m_3'] \n",
    "                    > seuil_levier])/len(analyse_levier['levier_m_3'])*100, 2)) + '%')"
   ]
  },
  {
   "cell_type": "markdown",
   "id": "e03ffcf1",
   "metadata": {},
   "source": [
    "#### Calcule des résidus studentisés\n",
    "Les résidus sont dits studentisés lorsqu’ils sont divisés par leur écart-type empirique. Le seuil pour les résidus studentisés est une loi de Student n-p-1à  degrés de liberté et pour les grands échantillons, ils doivent rester compris entre -2 et 2 :"
   ]
  },
  {
   "cell_type": "code",
   "execution_count": 33,
   "id": "e2f23983",
   "metadata": {},
   "outputs": [],
   "source": [
    "levier_analyse['rstudent_m_3'] = rl_3.get_influence().resid_studentized_internal\n",
    "seuil_rstudent = t.ppf(1-alpha/2,n-p-1)"
   ]
  },
  {
   "cell_type": "code",
   "execution_count": 34,
   "id": "6e23f2e1",
   "metadata": {},
   "outputs": [],
   "source": [
    "residus_student = levier_analyse.groupby(['country', 'quantile']).mean().reset_index()"
   ]
  },
  {
   "cell_type": "markdown",
   "id": "e4eba890",
   "metadata": {},
   "source": [
    "#### Visualisation "
   ]
  },
  {
   "cell_type": "code",
   "execution_count": 35,
   "id": "eb061a3d",
   "metadata": {},
   "outputs": [
    {
     "data": {
      "image/png": "[encoded data removed]",
      "text/plain": [
       "<Figure size 1440x720 with 1 Axes>"
      ]
     },
     "metadata": {
      "needs_background": "light"
     },
     "output_type": "display_data"
    }
   ],
   "source": [
    "plt.figure(figsize=(20,10))\n",
    "\n",
    "plt.bar(residus_student[(residus_student['rstudent_m_3'] <= seuil_rstudent) & \n",
    "                            (residus_student['rstudent_m_3'] >= -seuil_rstudent)]['country'].index, \n",
    "        residus_student[(residus_student['rstudent_m_3'] <= seuil_rstudent) &\n",
    "                            (residus_student['rstudent_m_3'] >= -seuil_rstudent)]['rstudent_m_3'], color='b')\n",
    "\n",
    "plt.bar(residus_student[residus_student['rstudent_m_3'] > seuil_rstudent]['country'].index, \n",
    "        residus_student[residus_student['rstudent_m_3'] > seuil_rstudent]['rstudent_m_3'], color='r')\n",
    "plt.bar(residus_student[residus_student['rstudent_m_3'] < -seuil_rstudent]['country'].index, \n",
    "        residus_student[residus_student['rstudent_m_3'] < -seuil_rstudent]['rstudent_m_3'], color='r')\n",
    "\n",
    "\n",
    "plt.axhline(y=seuil_rstudent, color='y', linestyle='-')\n",
    "plt.axhline(y=-seuil_rstudent, color='y', linestyle='-')\n",
    "\n",
    "plt.xlabel('Observations', fontsize=15, fontweight='bold')\n",
    "plt.ylabel('Résidus studentisés Modèle 1', fontsize=15, fontweight='bold')\n",
    "plt.title('Analyse graphique des résidus studentisés du Modèle 3', fontsize=20, fontweight='bold')\n",
    "\n",
    "plt.ylim(-3, 10)\n",
    "plt.savefig('rstudent_m_3.jpg')\n",
    "plt.show()"
   ]
  },
  {
   "cell_type": "code",
   "execution_count": 42,
   "id": "54580ba8",
   "metadata": {},
   "outputs": [
    {
     "name": "stdout",
     "output_type": "stream",
     "text": [
      "622 Valeurs influentes dans le Modèle 3 (avec log)\n"
     ]
    }
   ],
   "source": [
    "print(str(len(residus_student[(residus_student['rstudent_m_3'] > seuil_rstudent) | \n",
    "                 (residus_student['rstudent_m_3'] < -seuil_rstudent)])), \n",
    "                 'Valeurs influentes dans le Modèle 3 (avec log)')"
   ]
  },
  {
   "cell_type": "code",
   "execution_count": 43,
   "id": "7e990814",
   "metadata": {},
   "outputs": [
    {
     "name": "stdout",
     "output_type": "stream",
     "text": [
      "Modèle 3 (avec log): 5.47%\n"
     ]
    }
   ],
   "source": [
    "#Pourcentage des observations les plus influentes (hors seuil)\n",
    "print(\"Modèle 3 (avec log): \" + str((round(635 / len(residus_student['rstudent_m_3'])*100, 2))) + \"%\")"
   ]
  },
  {
   "cell_type": "markdown",
   "id": "650d26ba",
   "metadata": {},
   "source": [
    "#### Test de colinéarité "
   ]
  },
  {
   "cell_type": "code",
   "execution_count": 36,
   "id": "a653b8a5",
   "metadata": {},
   "outputs": [
    {
     "data": {
      "text/plain": [
       "[1.0642185747001767, 1.064218078454283, 1.0000009381044521]"
      ]
     },
     "execution_count": 36,
     "metadata": {},
     "output_type": "execute_result"
    }
   ],
   "source": [
    "variables = rl_3.model.exog\n",
    "[variance_inflation_factor(variables, i) for i in np.arange(1,variables.shape[1])]"
   ]
  },
  {
   "cell_type": "markdown",
   "id": "891c95f2",
   "metadata": {},
   "source": [
    "Ici, tous les coefficients sont inférieurs à 10, il n'y a donc pas de problème de colinéarité."
   ]
  },
  {
   "cell_type": "code",
   "execution_count": 44,
   "id": "516f9504",
   "metadata": {},
   "outputs": [],
   "source": [
    "from statsmodels.stats.outliers_influence import variance_inflation_factor\n",
    "variables = rl_3.model.exog\n",
    "vif = [variance_inflation_factor(variables, exog_idx = i) for i in np.arange(1,variables.shape[1])]"
   ]
  },
  {
   "cell_type": "code",
   "execution_count": 45,
   "id": "4ebaa198",
   "metadata": {},
   "outputs": [
    {
     "data": {
      "text/html": [
       "<div>\n",
       "<style scoped>\n",
       "    .dataframe tbody tr th:only-of-type {\n",
       "        vertical-align: middle;\n",
       "    }\n",
       "\n",
       "    .dataframe tbody tr th {\n",
       "        vertical-align: top;\n",
       "    }\n",
       "\n",
       "    .dataframe thead th {\n",
       "        text-align: right;\n",
       "    }\n",
       "</style>\n",
       "<table border=\"1\" class=\"dataframe\">\n",
       "  <thead>\n",
       "    <tr style=\"text-align: right;\">\n",
       "      <th></th>\n",
       "      <th>VIF</th>\n",
       "    </tr>\n",
       "  </thead>\n",
       "  <tbody>\n",
       "    <tr>\n",
       "      <th>ln_avg_income</th>\n",
       "      <td>1.064219</td>\n",
       "    </tr>\n",
       "    <tr>\n",
       "      <th>gini</th>\n",
       "      <td>1.064218</td>\n",
       "    </tr>\n",
       "    <tr>\n",
       "      <th>c_k_parent</th>\n",
       "      <td>1.000001</td>\n",
       "    </tr>\n",
       "  </tbody>\n",
       "</table>\n",
       "</div>"
      ],
      "text/plain": [
       "                    VIF\n",
       "ln_avg_income  1.064219\n",
       "gini           1.064218\n",
       "c_k_parent     1.000001"
      ]
     },
     "execution_count": 45,
     "metadata": {},
     "output_type": "execute_result"
    }
   ],
   "source": [
    "df_vif = pd.DataFrame(index = anova_table_global_ln.index[0:-1], columns = [\"VIF\"])\n",
    "df_vif[\"VIF\"] = vif\n",
    "df_vif"
   ]
  },
  {
   "cell_type": "markdown",
   "id": "19c9e623",
   "metadata": {},
   "source": [
    "#### Testez l’homoscédasticité\n",
    "On peut également tester l’homoscédasticité (c'est-à-dire la constance de la variance) des résidus :"
   ]
  },
  {
   "cell_type": "code",
   "execution_count": 37,
   "id": "c8adca18",
   "metadata": {},
   "outputs": [
    {
     "name": "stdout",
     "output_type": "stream",
     "text": [
      "p value test Breusch Pagan modèle 3: 0.0\n"
     ]
    }
   ],
   "source": [
    "_, pval, __, f_pval = statsmodels.stats.diagnostic.het_breuschpagan(rl_3.resid, variables)\n",
    "print('p value test Breusch Pagan modèle 3:', pval)"
   ]
  },
  {
   "cell_type": "markdown",
   "id": "6f01c733",
   "metadata": {},
   "source": [
    "La p-valeur ici est inférieure à 5 %, on rejette l'hypothèse 𝐻0 selon laquelle les variances sont constantes (l'hypothèse d’homoscédasticité)."
   ]
  },
  {
   "cell_type": "markdown",
   "id": "ccaea771",
   "metadata": {},
   "source": [
    "#### Test de la normalité des résidus\n",
    "Nous allons dans un premier temps réaliser un test de Shapiro-Wilk :"
   ]
  },
  {
   "cell_type": "code",
   "execution_count": 38,
   "id": "84f9b21b",
   "metadata": {},
   "outputs": [
    {
     "name": "stderr",
     "output_type": "stream",
     "text": [
      "C:\\Users\\elodi\\anaconda3\\lib\\site-packages\\scipy\\stats\\morestats.py:1681: UserWarning: p-value may not be accurate for N > 5000.\n",
      "  warnings.warn(\"p-value may not be accurate for N > 5000.\")\n"
     ]
    },
    {
     "data": {
      "text/plain": [
       "ShapiroResult(statistic=0.9755378365516663, pvalue=0.0)"
      ]
     },
     "execution_count": 38,
     "metadata": {},
     "output_type": "execute_result"
    }
   ],
   "source": [
    "shapiro(rl_3.resid)"
   ]
  },
  {
   "cell_type": "markdown",
   "id": "f800e353",
   "metadata": {},
   "source": [
    "On remarque ici que l'hypothèse de normalité est rejetée au niveau de test 5%, mais nous avons un warning dû au grand nombre d'individus. Traçons donc la distribution des résidus avec Seaborn pour vérifier :"
   ]
  },
  {
   "cell_type": "code",
   "execution_count": 39,
   "id": "240d51a7",
   "metadata": {},
   "outputs": [
    {
     "name": "stderr",
     "output_type": "stream",
     "text": [
      "C:\\Users\\elodi\\anaconda3\\lib\\site-packages\\seaborn\\distributions.py:2557: FutureWarning: `distplot` is a deprecated function and will be removed in a future version. Please adapt your code to use either `displot` (a figure-level function with similar flexibility) or `histplot` (an axes-level function for histograms).\n",
      "  warnings.warn(msg, FutureWarning)\n"
     ]
    },
    {
     "data": {
      "image/png": "[encoded data removed]",
      "text/plain": [
       "<Figure size 720x576 with 1 Axes>"
      ]
     },
     "metadata": {},
     "output_type": "display_data"
    }
   ],
   "source": [
    "sns.set_style(\"whitegrid\")\n",
    "fig = plt.figure(figsize=(10,8))\n",
    "ax = sns.distplot(rl_3.resid, fit=st.norm, kde=False)\n",
    "ax.set_title(\"Vérification de la normalité des résidus\", fontsize=22)\n",
    "plt.show()"
   ]
  },
  {
   "cell_type": "markdown",
   "id": "cb418388",
   "metadata": {},
   "source": [
    "Sur ce graphique, on remarque donc que la distribution des résidus suit bien une distribution normale. Affichons le QQPlot pour terminer cette analyse."
   ]
  },
  {
   "cell_type": "code",
   "execution_count": 40,
   "id": "95846371",
   "metadata": {},
   "outputs": [
    {
     "data": {
      "image/png": "[encoded data removed]",
      "text/plain": [
       "<Figure size 864x576 with 1 Axes>"
      ]
     },
     "metadata": {},
     "output_type": "display_data"
    }
   ],
   "source": [
    "fig = sm.qqplot(rl_3.resid, line=\"45\")\n",
    "fig.set_size_inches(12, 8)\n",
    "fig.suptitle(\"Diagramme quantile-quantile des résidus avec une loi normale\", fontsize=22)\n",
    "plt.show()"
   ]
  },
  {
   "cell_type": "markdown",
   "id": "368d6006",
   "metadata": {},
   "source": [
    "### En observant le coefficient de régression associé à l’indice de Gini, peut-on affirmer que le fait de vivre dans un pays plus inégalitaire favorise plus de personnes qu’il n’en défavorise ?\n",
    "\n",
    "Comme nous l'avons vu, plus l'indice de Gini est élevé, plus la répartition du pays est inégalitaire. De ce fait, une petite proportion de la population détient la plus grosse part des richesses. Les écarts de salaires sont très élevés avec des revenus par individus faibles.\n",
    "\n",
    "Le coefficient de régression de l'indice de Gini, ne nous permet pas d'affirmer que le fait de vivre dans un pays plus inégalitaire favorise plus de personnes qu'il n'en défavorise."
   ]
  },
  {
   "cell_type": "code",
   "execution_count": null,
   "id": "6c65abd8",
   "metadata": {},
   "outputs": [],
   "source": []
  }
 ],
 "metadata": {
  "kernelspec": {
   "display_name": "Python 3",
   "language": "python",
   "name": "python3"
  },
  "language_info": {
   "codemirror_mode": {
    "name": "ipython",
    "version": 3
   },
   "file_extension": ".py",
   "mimetype": "text/x-python",
   "name": "python",
   "nbconvert_exporter": "python",
   "pygments_lexer": "ipython3",
   "version": "3.8.8"
  }
 },
 "nbformat": 4,
 "nbformat_minor": 5
}
